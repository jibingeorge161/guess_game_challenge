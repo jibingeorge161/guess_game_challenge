{
 "cells": [
  {
   "cell_type": "markdown",
   "metadata": {},
   "source": [
    "## Guessing Game Challenge"
   ]
  },
  {
   "cell_type": "markdown",
   "metadata": {},
   "source": [
    "--> The program picks a random integer from 1 to 100 and the user has to guess the number in a limited number of steps. <br>\n",
    "--> On the player's first turn, if the player's guess is within 10 of the original number, then it will return \"WARM\"; otherwise, it will return \"COLD\". <br>\n",
    "--> On subsequent guesses, if a guess is closer to the original number than the previous guess, it will return \"WARMER\"; otherwise, it will return \"COLDER\"."
   ]
  },
  {
   "cell_type": "markdown",
   "metadata": {},
   "source": [
    "Step 1 : Game introduction and rules"
   ]
  },
  {
   "cell_type": "markdown",
   "metadata": {},
   "source": [
    "--> Hi, I am a number between 1 and 100. Can you figure me out? <br>\n",
    "--> If your guess is more than 10 away from me, then I will return \"COLD\". <br>\n",
    "--> If your guess is within 10 of me, I will return \"WARM\". <br>\n",
    "--> If your guess is farther from me than your most recent guess, I will return \"COLDER\". <br>\n",
    "--> If your guess is closer to me than your most recent guess, I will return \"WARMER.\" <br>"
   ]
  },
  {
   "cell_type": "markdown",
   "metadata": {},
   "source": [
    "Step 2 : Generating random integer"
   ]
  },
  {
   "cell_type": "code",
   "execution_count": 1,
   "metadata": {},
   "outputs": [],
   "source": [
    "from random import randint\n",
    "number = randint(1,100)"
   ]
  },
  {
   "cell_type": "markdown",
   "metadata": {},
   "source": [
    "Step 3 : Create an empty list to store guesses."
   ]
  },
  {
   "cell_type": "code",
   "execution_count": 2,
   "metadata": {},
   "outputs": [],
   "source": [
    "guess_list = [0] # 0 is used as a place holder"
   ]
  },
  {
   "cell_type": "markdown",
   "metadata": {},
   "source": [
    "Step 4 : Create the game."
   ]
  },
  {
   "cell_type": "code",
   "execution_count": 3,
   "metadata": {},
   "outputs": [
    {
     "name": "stdout",
     "output_type": "stream",
     "text": [
      "OUT OF BOUNDS!, 120\n",
      "COLD!, 24\n",
      "WARMER!, 46\n",
      "WARMER!, 58\n",
      "WARMER!, 75\n",
      "WARMER!, 80\n",
      "WARMER!, 86\n",
      "WARMER!, 94\n",
      "COLDER!, 96\n",
      "WARMER!, 95\n",
      "WARMER!, 91\n",
      "COLDER!, 90\n",
      "WARMER!, 93\n",
      "Hooray! You guessed the number : 92 in 13 guesses.\n"
     ]
    }
   ],
   "source": [
    "while True:\n",
    "\n",
    "    guess = int(input('I am a number between 1 and 100. What is your guess : '))\n",
    "\n",
    "    # valid guess check\n",
    "    if (guess < 1) | (guess > 100):\n",
    "        print(f'OUT OF BOUNDS!, {guess}')\n",
    "        continue\n",
    "    \n",
    "    # correct guess\n",
    "    if guess == number :\n",
    "        print(f'Hooray! You guessed the number : {number} in {len(guess_list)} guesses.')\n",
    "        break\n",
    "\n",
    "    guess_list.append(guess)\n",
    "\n",
    "    # COLDER, WARMER check\n",
    "    if guess_list[-2]: # checking with the previous guess\n",
    "        if abs(number - guess) <= abs(number - guess_list[-2]):  # abs or absolute difference will be lesser if the new guess is closer than the previous guess.\n",
    "            print(f'WARMER!, {guess}')\n",
    "        else:\n",
    "            print(f'COLDER!, {guess}')\n",
    "    \n",
    "    # COLD, WARM check\n",
    "    else: # checking with the current guess\n",
    "        if abs(number - guess) <= 10:\n",
    "            print(f'WARM!, {guess}')\n",
    "        else:\n",
    "            print(f'COLD!, {guess}')\n"
   ]
  },
  {
   "cell_type": "code",
   "execution_count": null,
   "metadata": {},
   "outputs": [],
   "source": []
  }
 ],
 "metadata": {
  "kernelspec": {
   "display_name": "Python 3.9.12 ('base')",
   "language": "python",
   "name": "python3"
  },
  "language_info": {
   "codemirror_mode": {
    "name": "ipython",
    "version": 3
   },
   "file_extension": ".py",
   "mimetype": "text/x-python",
   "name": "python",
   "nbconvert_exporter": "python",
   "pygments_lexer": "ipython3",
   "version": "3.9.12"
  },
  "orig_nbformat": 4,
  "vscode": {
   "interpreter": {
    "hash": "52d90d3cc821dd0beedd6e719dbdecc722c226b9d90ed1b663c34e1877f1142e"
   }
  }
 },
 "nbformat": 4,
 "nbformat_minor": 2
}
